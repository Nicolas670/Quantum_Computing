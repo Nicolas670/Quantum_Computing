{
    "cells": [
        {
            "cell_type": "markdown",
            "metadata": {},
            "source": "### 1. Quantum Computing with Qiskit\nIn this small Notebook I will be taking my first steps with IBMs Quantum Experience and qiskit."
        },
        {
            "cell_type": "code",
            "execution_count": 2,
            "metadata": {},
            "outputs": [],
            "source": "import qiskit as q"
        },
        {
            "cell_type": "markdown",
            "metadata": {},
            "source": "### 2. Composing the first circuit"
        },
        {
            "cell_type": "code",
            "execution_count": 3,
            "metadata": {},
            "outputs": [],
            "source": "# 2 q-bits and 2 classical bits\ncircuit = q.QuantumCircuit(2,2)"
        },
        {
            "cell_type": "code",
            "execution_count": 4,
            "metadata": {},
            "outputs": [
                {
                    "data": {
                        "text/html": "<pre style=\"word-wrap: normal;white-space: pre;background: #fff0;line-height: 1.1;font-family: &quot;Courier New&quot;,Courier,monospace\">     \u250c\u2500\u2500\u2500\u2510     \u250c\u2500\u2510   \nq_0: \u2524 X \u251c\u2500\u2500\u25a0\u2500\u2500\u2524M\u251c\u2500\u2500\u2500\n     \u2514\u2500\u2500\u2500\u2518\u250c\u2500\u2534\u2500\u2510\u2514\u2565\u2518\u250c\u2500\u2510\nq_1: \u2500\u2500\u2500\u2500\u2500\u2524 X \u251c\u2500\u256b\u2500\u2524M\u251c\n          \u2514\u2500\u2500\u2500\u2518 \u2551 \u2514\u2565\u2518\nc_0: \u2550\u2550\u2550\u2550\u2550\u2550\u2550\u2550\u2550\u2550\u2550\u2569\u2550\u2550\u256c\u2550\n                   \u2551 \nc_1: \u2550\u2550\u2550\u2550\u2550\u2550\u2550\u2550\u2550\u2550\u2550\u2550\u2550\u2550\u2569\u2550\n                     </pre>",
                        "text/plain": "     \u250c\u2500\u2500\u2500\u2510     \u250c\u2500\u2510   \nq_0: \u2524 X \u251c\u2500\u2500\u25a0\u2500\u2500\u2524M\u251c\u2500\u2500\u2500\n     \u2514\u2500\u2500\u2500\u2518\u250c\u2500\u2534\u2500\u2510\u2514\u2565\u2518\u250c\u2500\u2510\nq_1: \u2500\u2500\u2500\u2500\u2500\u2524 X \u251c\u2500\u256b\u2500\u2524M\u251c\n          \u2514\u2500\u2500\u2500\u2518 \u2551 \u2514\u2565\u2518\nc_0: \u2550\u2550\u2550\u2550\u2550\u2550\u2550\u2550\u2550\u2550\u2550\u2569\u2550\u2550\u256c\u2550\n                   \u2551 \nc_1: \u2550\u2550\u2550\u2550\u2550\u2550\u2550\u2550\u2550\u2550\u2550\u2550\u2550\u2550\u2569\u2550\n                     "
                    },
                    "execution_count": 4,
                    "metadata": {},
                    "output_type": "execute_result"
                }
            ],
            "source": "# q-bits start as 0; flip 1. qubit to 1\ncircuit.x(0)\n\n# Apply c-not (controlled not) gate to 2nd q-bit; c-not: flip q-bit to 1 if other q-bit is a 1, otherwise do nothing\ncircuit.cx(0, 1)\n\n# Write value of first q-bit to first classical bit and 2nd to 2nd:\ncircuit.measure([0,1], [0,1])\n\n# draw circuit:\ncircuit.draw()"
        },
        {
            "cell_type": "code",
            "execution_count": 5,
            "metadata": {},
            "outputs": [
                {
                    "data": {
                        "image/png": "[encoded data removed]",
                        "text/plain": "<Figure size 418.992x204.68 with 1 Axes>"
                    },
                    "execution_count": 5,
                    "metadata": {},
                    "output_type": "execute_result"
                }
            ],
            "source": "# draw as matplotlib \ncircuit.draw(output = \"mpl\")"
        },
        {
            "cell_type": "markdown",
            "metadata": {},
            "source": "### 3. Setting up the account"
        },
        {
            "cell_type": "code",
            "execution_count": 6,
            "metadata": {},
            "outputs": [],
            "source": "# The code was removed by Watson Studio for sharing."
        },
        {
            "cell_type": "code",
            "execution_count": 8,
            "metadata": {},
            "outputs": [],
            "source": "from qiskit import IBMQ\n# JUST FOR INITIAL SETUP: Connect to IBM Quantum Experience Account\nIBMQ.save_account(token)"
        },
        {
            "cell_type": "code",
            "execution_count": 9,
            "metadata": {},
            "outputs": [
                {
                    "data": {
                        "text/plain": "<AccountProvider for IBMQ(hub='ibm-q', group='open', project='main')>"
                    },
                    "execution_count": 9,
                    "metadata": {},
                    "output_type": "execute_result"
                }
            ],
            "source": "# Use the following for following notebooks, as the connection should be saved for the future:\nIBMQ.load_account()"
        },
        {
            "cell_type": "markdown",
            "metadata": {},
            "source": "### 4. Execute circuit"
        },
        {
            "cell_type": "code",
            "execution_count": 11,
            "metadata": {},
            "outputs": [
                {
                    "name": "stdout",
                    "output_type": "stream",
                    "text": "ibmq_qasm_simulator has 1 queued and simulated qubits\nibmqx2 has 5 queued and 5 qubits\nibmq_16_melbourne has 9 queued and 15 qubits\nibmq_vigo has 6 queued and 5 qubits\nibmq_ourense has 1 queued and 5 qubits\nibmq_london has 4 queued and 5 qubits\nibmq_burlington has 0 queued and 5 qubits\nibmq_essex has 4 queued and 5 qubits\nibmq_armonk has 0 queued and 1 qubits\nibmq_rome has 6 queued and 5 qubits\n"
                }
            ],
            "source": "# Next get an overview of the quees for different available quantum computer:\nprovider = IBMQ.get_provider(\"ibm-q\")\n\n# Each p stands for one Quantum Computer.\nfor backend in provider.backends():\n    # One availabe Quantum Computer is only simulated and hence has no set number of qubits\n    try:\n        n_qubits = len(backend.properties().qubits)\n        \n    except:\n        n_qubits = \"simulated\"\n        \n    print(f\"{backend.name()} has {backend.status().pending_jobs} queued and {n_qubits} qubits\")"
        },
        {
            "cell_type": "code",
            "execution_count": 13,
            "metadata": {},
            "outputs": [
                {
                    "name": "stdout",
                    "output_type": "stream",
                    "text": "Job Status: job has successfully run\n"
                }
            ],
            "source": "from qiskit.tools.monitor import job_monitor\n\n# select backend with minimal length que and sufficient number of qubits\nbackend = provider.get_backend(\"ibmq_london\")\n\n# Shots equals the number of times the circuit gets run. This is necessary, as quantum computing is based on probability in the end.\n# The more shots you take the more certain the cummulative result will be.\njob = q.execute(circuit, backend=backend, shots=300)\njob_monitor(job)"
        },
        {
            "cell_type": "markdown",
            "metadata": {},
            "source": "### 5. Result"
        },
        {
            "cell_type": "code",
            "execution_count": 16,
            "metadata": {},
            "outputs": [
                {
                    "data": {
                        "image/png": "[encoded data removed]",
                        "text/plain": "<Figure size 504x360 with 1 Axes>"
                    },
                    "execution_count": 16,
                    "metadata": {},
                    "output_type": "execute_result"
                }
            ],
            "source": "from qiskit.visualization import plot_histogram\nfrom matplotlib import style\nstyle.use(\"ggplot\")\n\nresult = job.result()\ncounts = result.get_counts()\n\nplot_histogram([counts])"
        },
        {
            "cell_type": "markdown",
            "metadata": {},
            "source": "As one would expect, the most frequent outcome of the computation is 1 1.  \nThe other outcomes are referred to as quantum noise, meaning the qubits states have been messed with by its surrounding, thus changing the outcome.  \nThis shows nicel why we needed to take many shots ( as we defined in step 4) to be more certain of a correct result.  \nCorrecting for such errors is still a huge problem in Quantum computing and prohibiting us from constructing more complex quantum machines."
        }
    ],
    "metadata": {
        "kernelspec": {
            "display_name": "Python 3.6",
            "language": "python",
            "name": "python3"
        },
        "language_info": {
            "codemirror_mode": {
                "name": "ipython",
                "version": 3
            },
            "file_extension": ".py",
            "mimetype": "text/x-python",
            "name": "python",
            "nbconvert_exporter": "python",
            "pygments_lexer": "ipython3",
            "version": "3.6.9"
        }
    },
    "nbformat": 4,
    "nbformat_minor": 1
}